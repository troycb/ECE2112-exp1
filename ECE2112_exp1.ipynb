{
 "cells": [
  {
   "cell_type": "markdown",
   "id": "f017425e-f689-4481-a3ed-3c45995d8fea",
   "metadata": {},
   "source": [
    "# EXPERIMENT 1"
   ]
  },
  {
   "cell_type": "markdown",
   "id": "25e06ede-9402-48d4-ad58-0aa96d39e6ce",
   "metadata": {},
   "source": [
    "### Alphabet Soup Problem"
   ]
  },
  {
   "cell_type": "code",
   "execution_count": null,
   "id": "75caa6bb-d79c-4b47-97d1-125f6723a09b",
   "metadata": {},
   "outputs": [],
   "source": [
    "def alphabet_soup(word):\n",
    "    li = []\n",
    "    x = len(word)\n",
    "    \n",
    "    for i in range (0,x):\n",
    "        li.append(word[i])\n",
    "\n",
    "    for i in range(0,x):\n",
    "        for j in range(0,x):\n",
    "            if li[i]<li[j]:\n",
    "                temp = li[i]\n",
    "                li[i]=li[j]\n",
    "                li[j]=temp\n",
    "    j = \"\"\n",
    "    \n",
    "    for i in range(0,x):\n",
    "        j = j+li[i]\n",
    "    print(j)\n",
    "\n",
    "alphabet_soup(\"salamat\")"
   ]
  },
  {
   "cell_type": "markdown",
   "id": "97ccab54-329d-4766-bf86-6f4eba3d4f00",
   "metadata": {},
   "source": [
    "### Emoticon Problem"
   ]
  },
  {
   "cell_type": "code",
   "execution_count": null,
   "id": "c5c331ea-9ad7-4bef-b658-be3a2965ed66",
   "metadata": {},
   "outputs": [],
   "source": [
    "emoticons = \"smile\", \"grin\", \"sad\", \"mad\"\n",
    "def emotify(statement):\n",
    "    if emoticons[0] == \"smile\" in statement:\n",
    "        return statement.replace(\"smile\", \":)\")\n",
    "    elif emoticons[1] == \"grin\" in statement:\n",
    "        return statement.replace(\"grin\", \":D\")\n",
    "    elif emoticons[2] == \"sad\" in statement:\n",
    "        return statement.replace(\"sad\", \":((\")\n",
    "    elif emoticons[3] == \"mad\" in statement:\n",
    "        return statement.replace(\"mad\", \">:(\")\n",
    "\n",
    "emotify(\"I want to smile\")"
   ]
  },
  {
   "cell_type": "markdown",
   "id": "8a2ddc7a-42f5-4f96-9ee8-a262794b761e",
   "metadata": {},
   "source": [
    "### Unpacking List Problem"
   ]
  },
  {
   "cell_type": "code",
   "execution_count": null,
   "id": "641c11b6-15da-4be9-9873-a46f533e92c3",
   "metadata": {},
   "outputs": [],
   "source": [
    "lst = [1, 2, 3, 4, 5, 6, 7, 8]\n",
    "\n",
    "print (\"First:\", lst[0])\n",
    "print (\"Middle:\", lst[1:-1])\n",
    "print (\"Last:\", lst[-1])"
   ]
  }
 ],
 "metadata": {
  "kernelspec": {
   "display_name": "Python 3 (ipykernel)",
   "language": "python",
   "name": "python3"
  },
  "language_info": {
   "codemirror_mode": {
    "name": "ipython",
    "version": 3
   },
   "file_extension": ".py",
   "mimetype": "text/x-python",
   "name": "python",
   "nbconvert_exporter": "python",
   "pygments_lexer": "ipython3",
   "version": "3.12.4"
  }
 },
 "nbformat": 4,
 "nbformat_minor": 5
}
